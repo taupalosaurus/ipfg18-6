{
 "cells": [
  {
   "cell_type": "code",
   "execution_count": null,
   "metadata": {},
   "outputs": [],
   "source": [
    "from lecture import *"
   ]
  },
  {
   "cell_type": "markdown",
   "metadata": {},
   "source": [
    "# <center> Introduction to programming in Python </center>\n",
    "### <center> [Nicolas Barral](http://www.imperial.ac.uk/people/n.barral), [Gerard Gorman](http://www.imperial.ac.uk/people/g.gorman) </center>\n",
    "\n",
    "# <center> Lecture 6: Reading files </center>"
   ]
  },
  {
   "cell_type": "markdown",
   "metadata": {},
   "source": [
    "## Learning objectives: \n",
    "<hr style=\"border: solid 2px red; margin-top: 1.5% \">\n",
    "\n",
    "* open and close a file\n",
    "* read one column data files\n",
    "* read multi-column data files \n",
    "* skip ill-formed lines\n",
    "* write data to a file"
   ]
  },
  {
   "cell_type": "markdown",
   "metadata": {},
   "source": [
    "## Reading data from a plain text file\n",
    "<hr style=\"border: solid 2px red; margin-top: 1.5% \">\n",
    "\n",
    "We can read text from a [text file](http://en.wikipedia.org/wiki/Text_file) into strings in a program. This is a common (and simple) way for a program to get input data. The basic recipe is:\n",
    "```python\n",
    "# Open text file\n",
    "infile = open(\"myfile.dat\", \"r\")\n",
    "\n",
    "# Read next line:\n",
    "line = infile.readline()\n",
    "\n",
    "# Read the lines in a loop one by one:\n",
    "for line in infile:\n",
    "    <process line>\n",
    "\n",
    "# Load all lines into a list of strings:\n",
    "lines = infile.readlines()\n",
    "for line in lines:\n",
    "    <process line>```"
   ]
  },
  {
   "cell_type": "markdown",
   "metadata": {},
   "source": [
    "Let's look at the file [./data/data1.txt](./data/data1.txt) (all of the data files in this lecture are stored in the sub-folder *data/* of this notebook library). The files has a column of numbers:\n",
    "```\n",
    "21.8\n",
    "18.1\n",
    "19\n",
    "23\n",
    "26\n",
    "17.8```"
   ]
  },
  {
   "cell_type": "markdown",
   "metadata": {},
   "source": [
    "The goal is to read this file and calculate the mean:"
   ]
  },
  {
   "cell_type": "code",
   "execution_count": null,
   "metadata": {},
   "outputs": [],
   "source": [
    "# Open data file\n",
    "infile = open(\"data/data1.txt\", \"r\")\n",
    "\n",
    "# Initialise values\n",
    "mean = 0\n",
    "n=0\n",
    "\n",
    "# Loop to perform sum\n",
    "for number in infile:\n",
    "    number = float(number)\n",
    "    mean = mean + number\n",
    "    n += 1\n",
    "    \n",
    "# It is good practice to close a file when you are finished. \n",
    "infile.close()\n",
    "\n",
    "# Calculate the mean.\n",
    "mean = mean/n\n",
    "print(mean)"
   ]
  },
  {
   "cell_type": "markdown",
   "metadata": {},
   "source": [
    "### Conversion from text to numbers\n",
    "<hr style=\"border: solid 1px red; margin-top: 1.5% \">\n",
    "\n",
    "The lines read by Python are *text*, i.e. *strings*. To manipulate them (average them, plot them, *etc*.) we need to convert the strings to numbers, using either `float` or `int`. We saw in Lecture 5 that this conversion can fail, if the string does not look like what it should (an integer or a floating point number). This will notably happen if some data is missing, or if there are header lines instead of just numbers. However, you do not want your code to exit because of that: you will need to use a `try...except` construct to handle gracefully these errors and skip to the next line. "
   ]
  },
  {
   "cell_type": "markdown",
   "metadata": {},
   "source": [
    "## <span style=\"color:blue\">Exercice 6.0:</span> Catch errors in conversions (Re: lecture 5)\n",
    "\n",
    "The python built-in `float()` function tries to convert its input into a floating point number. This works if the input is already a float (`float(3.14)`, is an integer (`float(3)`), or even if it is a string containing a number `int(\"3.14\")`. However, it will throw a `ValueError` if you try to convert a string that does not look like a number (try `float(\"qwe\")`).\n",
    "\n",
    "The goal of the exercise is to write a small function that will test if its argument can be converted to an int. Write a function called `isFloat`, that will return `True` if the argument can be converted, and `False` if it cannot. Use a `try...except` construct to catch exceptions raised by `float`."
   ]
  },
  {
   "cell_type": "code",
   "execution_count": null,
   "metadata": {},
   "outputs": [],
   "source": [
    "# your code here. Do not change variable names\n"
   ]
  },
  {
   "cell_type": "code",
   "execution_count": null,
   "metadata": {},
   "outputs": [],
   "source": [
    "ok.grade('question-6_0')"
   ]
  },
  {
   "cell_type": "markdown",
   "metadata": {},
   "source": [
    "### A more complex example\n",
    "<hr style=\"border: solid 1px red; margin-top: 1.5% \">\n",
    "\n",
    "Let's make this example more interesting. There is a **lot** of data out there for you to discover all kinds of interesting facts - you just need to be interested in learning a little analysis. For this case I have downloaded tidal gauge data for the port of Avonmouth from the [BODC](http://www.bodc.ac.uk/). Take some time now to open the file and have a look through it - [data/2012AVO.txt](data/2012AVO.txt) you will see the [metadata](http://en.wikipedia.org/wiki/Metadata):"
   ]
  },
  {
   "cell_type": "markdown",
   "metadata": {},
   "source": [
    "```\n",
    "Port:              P060\n",
    "Site:              Avonmouth\n",
    "Latitude:          51.51089\n",
    "Longitude:         -2.71497\n",
    "Start Date:        01JAN2012-00.00.00\n",
    "End Date:          30APR2012-23.45.00\n",
    "Contributor:       National Oceanography Centre, Liverpool\n",
    "Datum information: The data refer to Admiralty Chart Datum (ACD)\n",
    "Parameter code:    ASLVTD02 = Surface elevation (unspecified datum) of the water body by fixed in-situ pressure sensor```"
   ]
  },
  {
   "cell_type": "markdown",
   "metadata": {},
   "source": [
    "Let's read the column ASLVTD02 (the surface elevation) and plot it. Pay attention to how we use `try...except` to detect lines that we want to skip."
   ]
  },
  {
   "cell_type": "code",
   "execution_count": null,
   "metadata": {},
   "outputs": [],
   "source": [
    "%matplotlib notebook\n",
    "import matplotlib.pyplot as plt\n",
    "import numpy as np\n",
    "\n",
    "tide_file = open(\"data/2012AVO.txt\", \"r\")\n",
    "\n",
    "# Initialise an lists to store the elevation and the time\n",
    "elevation = []\n",
    "time = []\n",
    "line_number = 0\n",
    "\n",
    "# We read all the lines and first assume they are all data lines.\n",
    "# If a line does not contain data in the right format (header, error...), \n",
    "# one of the operations that we are doing will fail, which we can catch\n",
    "# with a try...except construct, and skip to the next line.\n",
    "\n",
    "for line in tide_file:\n",
    "    # Split this line into words. \n",
    "    try:\n",
    "        words = line.split()\n",
    "    except:\n",
    "        # split will fail if the line is empty or contains just one word\n",
    "        # in this case, skip to the next line\n",
    "        continue # go directly to the next item in the loop, i.e. the next line\n",
    "\n",
    "    # If we do not have 5 words then the line must be part of the header.\n",
    "    if len(words)!=5:\n",
    "        continue # go directly to the next line\n",
    "    \n",
    "    # The elevation data is on the 4th column. However, the BODC\n",
    "    # appends a \"M\" when a value is improbable and an \"N\" when\n",
    "    # data is missing (maybe a ship dumped into it during rough weather!)\n",
    "    # We use a try/except block, to catch these cases when the conversion\n",
    "    # to a float is not possible.\n",
    "    try:\n",
    "        level = float(words[3])\n",
    "    except:\n",
    "        continue\n",
    "    elevation.append(level)\n",
    "\n",
    "    # There is a measurement every quarter hour.\n",
    "    time.append(line_number * 0.25/24)\n",
    "    line_number += 1\n",
    "\n",
    "    \n",
    "# For plotting lets convert the list to a NumPy array.\n",
    "elevation = np.array(elevation)\n",
    "time = np.array(time)\n",
    "\n",
    "fig = plt.figure()\n",
    "plt.plot(time, elevation)\n",
    "plt.xlabel(\"timestamp\")\n",
    "plt.ylabel(\"Elevation (meters)\")\n",
    "plt.show()"
   ]
  },
  {
   "cell_type": "markdown",
   "metadata": {},
   "source": [
    "Quiz time:\n",
    "\n",
    "* What tidal constituents can you identify by looking at this plot?\n",
    "* Is this primarily a diurnal or semi-diurnal tidal region? (hint - change the x-axis range on the plot above)."
   ]
  },
  {
   "cell_type": "markdown",
   "metadata": {},
   "source": [
    "### Split\n",
    "<hr style=\"border: solid 1px red; margin-top: 1.5% \">\n",
    "\n",
    "You will notice in the above example that we used the `split()` string member function. This is a very useful function for grabbing individual words on a line. When called without any arguments it assumes that the [delimiter](http://en.wikipedia.org/wiki/Delimiter) is a blank space. However, you can use this to split a string with any delimiter, *e.g.*, `line.split(';')`, `line.split(':')`."
   ]
  },
  {
   "cell_type": "markdown",
   "metadata": {},
   "source": [
    "### `Continue`\n",
    "<hr style=\"border: solid 1px red; margin-top: 1.5% \">\n",
    "\n",
    "We also used the `continue` statement. In a loop, (a `for` or `while` loop), it will be used to ignore the instructions placed below and skip to the next item in the loop:"
   ]
  },
  {
   "cell_type": "code",
   "execution_count": null,
   "metadata": {},
   "outputs": [],
   "source": [
    "for i in range(5):\n",
    "    print(i, \", above the continue\")\n",
    "    if i == 3:\n",
    "        continue\n",
    "    print(i, \", below the continue\")"
   ]
  },
  {
   "cell_type": "markdown",
   "metadata": {},
   "source": [
    "## <span style=\"color:blue\">Exercice 6.1:</span>  Read a one-column data file\n",
    "\n",
    "The file [data/file1.txt](data/file1.txt) contains a single column of floating point numbers. Make a program that reads the file and stores the numbers into a list. Convert this list into a numpy array called `column_float`. Modify your program to also convert the floating point numbers into integers and store them in an array called `column_int`."
   ]
  },
  {
   "cell_type": "code",
   "execution_count": null,
   "metadata": {},
   "outputs": [],
   "source": [
    "# Write your code here, do not change variable names for testing purposes\n",
    "\n",
    "# import numpy as np\n",
    "\n",
    "# ...\n",
    "\n",
    "# column_float =\n",
    "# column_int ="
   ]
  },
  {
   "cell_type": "code",
   "execution_count": null,
   "metadata": {},
   "outputs": [],
   "source": [
    "ok.grade(\"question-6_1\")"
   ]
  },
  {
   "cell_type": "markdown",
   "metadata": {},
   "source": [
    "## <span style=\"color:blue\">Exercice 6.2:</span>  Read a two-column data file\n",
    "\n",
    "The file [data/xy.dat](data/xy.dat) contains two columns of numbers, corresponding to *x* and *y* coordinates on a curve. The start of the file looks like this:\n",
    "\n",
    "-1.0000   -0.0000 <br>\n",
    "-0.9933   -0.0087 <br>\n",
    "-0.9867   -0.0179 <br>\n",
    "-0.9800   -0.0274 <br>\n",
    "-0.9733   -0.0374 <br>\n",
    "\n",
    "Make a program that reads the first column into a list `xlist` and the second column into a list `ylist`. Then convert the lists to arrays named `xarray` and `yarray`, and plot the curve. Store the maximum and minimum y coordinates in two variables named `ymin` and `ymax`. (Hint: Read the file line by line, split each line into words, convert to float, and append to `xlist` and `ylist`.)</br>"
   ]
  },
  {
   "cell_type": "code",
   "execution_count": null,
   "metadata": {},
   "outputs": [],
   "source": []
  },
  {
   "cell_type": "code",
   "execution_count": null,
   "metadata": {},
   "outputs": [],
   "source": [
    "grade = ok.grade('question-6_2')"
   ]
  },
  {
   "cell_type": "markdown",
   "metadata": {},
   "source": [
    "## <span style=\"color:blue\">Exercice 6.3:</span>  Read a data file with headers and bad lines\n",
    "The files [data/density_water.dat](https://raw.githubusercontent.com/ggorman/Introduction-to-programming-for-geoscientists/master/notebook/data/density_water.dat) and [data/density_air.dat](https://raw.githubusercontent.com/ggorman/Introduction-to-programming-for-geoscientists/master/notebook/data/density_air.dat) contain data about the density of water and air (respectively) for different temperatures. The data files have some comment lines starting with # and some lines are blank. The rest of the lines contain density data: the temperature in the first column and the corresponding density in the second column. The goal of this exercise is to read the data in such a file, discard commented or blank lines, and plot the density versus the temperature as distinct (small) circles for each data point. Write a function `readTempDenFile` that takes a filename as argument and returns two lists containing respectively the temperature and the density. Call this function on both files, and store the temperature and density in lists called `temp_air_list`, `dens_air_list`, `temp_water_list` and `dens_water_list`."
   ]
  },
  {
   "cell_type": "code",
   "execution_count": null,
   "metadata": {},
   "outputs": [],
   "source": []
  },
  {
   "cell_type": "code",
   "execution_count": null,
   "metadata": {},
   "outputs": [],
   "source": [
    "grade = ok.grade(\"question-6_3\")"
   ]
  },
  {
   "cell_type": "markdown",
   "metadata": {},
   "source": [
    "## <span style=\"color:blue\">Exercice 6.4:</span>  Read a file with missing data\n",
    "\n",
    "The file [data/measurements.dat](data/measurements.dat)  is made of 3 columns corresponding to 2 different measurements taken at different times: *time* in hours, *meas_A* and *meas_B*. Sometimes, some of the measurements are missing, so there are fewer than 3 columns. Inspect the file visually and check its structure.\n",
    "\n",
    "Write some code that reads the file, and stores the time and *meas_A* in two arrays called `hours_array` and `measA_array`. You should skip all the lines where data is missing.\n",
    "\n",
    "Plot `measA_array` against `hours_array`."
   ]
  },
  {
   "cell_type": "code",
   "execution_count": null,
   "metadata": {},
   "outputs": [],
   "source": []
  },
  {
   "cell_type": "code",
   "execution_count": null,
   "metadata": {},
   "outputs": [],
   "source": [
    "ok.grade(\"question-6_4\")"
   ]
  },
  {
   "cell_type": "markdown",
   "metadata": {},
   "source": [
    "## <span style=\"color:blue\">Exercise 6.5 (**):</span> Read acceleration data and find velocities\n",
    "A file [data/acc.dat](./data/acc.dat) contains measurements $a_0, a_1, \\ldots, a_{n-1}$ of the acceleration of an object moving along a straight line. The measurement $a_k$ is taken at time point $t_k = k\\Delta t$, where $\\Delta t$ is the time spacing between the measurements. The purpose of the exercise is to load the acceleration data into a program and compute the velocity $v(t)$ of the object at some time $t$.\n",
    "\n",
    "In general, the acceleration $a(t)$ is related to the velocity $v(t)$ through $v^\\prime(t) = a(t)$. This means that\n",
    "\n",
    "$$\n",
    "v(t) = v(0) + \\int_0^t{a(\\tau)d\\tau}\n",
    "$$\n",
    "\n",
    "If $a(t)$ is only known at some discrete, equally spaced points in time, $a_0, \\ldots, a_{n-1}$ (which is the case in this exercise), we must compute the integral above numerically, for example by the Trapezoidal rule:\n",
    "\n",
    "$$\n",
    "v(t_k) \\approx v(0) + \\Delta t \\left(\\frac{1}{2}a_0 + \\frac{1}{2}a_k + \\sum_{i=1}^{k-1}a_i \\right), \\ \\ 1 \\leq k \\leq n-1. \n",
    "$$\n",
    "\n",
    "We assume $v(0) = 0$ so that also $v_0 = 0$.\n",
    "\n",
    "1. Read the values $a_0, \\ldots, a_{n-1}$ from file into an array `acc_array` and plot the acceleration versus time for $\\Delta_t = 0.5$. The time should be stored in an array named `time_array`.\n",
    "\n",
    "2. Then write a function `compute_velocity(dt, k, a)` that takes as arguments a time interval $\\Delta_t$ `dt`, an index `k` and a list of accelerations `a`, uses the Trapezoidal rule to compute one $v(t_k)$ value and returns this value. Experiment with different values of $\\Delta t$ and $k$."
   ]
  },
  {
   "cell_type": "code",
   "execution_count": null,
   "metadata": {},
   "outputs": [],
   "source": []
  },
  {
   "cell_type": "code",
   "execution_count": null,
   "metadata": {},
   "outputs": [],
   "source": [
    "grade = ok.grade('question-6_5')"
   ]
  },
  {
   "cell_type": "markdown",
   "metadata": {},
   "source": [
    "## File writing\n",
    "<hr style=\"border: solid 2px red; margin-top: 1.5% \">\n",
    "\n",
    "Writing a file in Python is simple. You just collect the text you want to write in one or more strings and, for each string, use a statement along the lines of\n",
    "\n",
    "```python\n",
    "outfile.write(string)```"
   ]
  },
  {
   "cell_type": "markdown",
   "metadata": {},
   "source": [
    "The write function does not add a newline character so you may have to do that explicitly:\n",
    "\n",
    "```python\n",
    "outfile.write(string + ’\\n’)```"
   ]
  },
  {
   "cell_type": "markdown",
   "metadata": {},
   "source": [
    "That’s it! Compose the strings and write! Let's do an example. Write a nested list (table) to a file:"
   ]
  },
  {
   "cell_type": "code",
   "execution_count": null,
   "metadata": {},
   "outputs": [],
   "source": [
    "# Let's define some table of data\n",
    "data = [[ 0.75,        0.29619813, -0.29619813, -0.75      ],\n",
    "        [ 0.29619813,  0.11697778, -0.11697778, -0.29619813],\n",
    "        [-0.29619813, -0.11697778,  0.11697778,  0.29619813],\n",
    "        [-0.75,       -0.29619813,  0.29619813,  0.75      ]]\n",
    "\n",
    "# Open the file for writing. Notice the \"w\" indicates we are writing!\n",
    "outfile = open(\"tmp_table.dat\", \"w\")\n",
    "for row in data:\n",
    "    for column in row:\n",
    "        outfile.write(\"%14.8f\" % column)\n",
    "    outfile.write(\"\\n\")   # ensure newline\n",
    "outfile.close()"
   ]
  },
  {
   "cell_type": "markdown",
   "metadata": {},
   "source": [
    "And that's it - run the above cell and take a look at the file that was generated in your Azure library clone."
   ]
  },
  {
   "cell_type": "markdown",
   "metadata": {},
   "source": [
    "## <span style=\"color:blue\">Exercice 6.6:</span>  Write function data to a file\n",
    "\n",
    "We want to dump $x$ and $f(x)$ values to a file named `function_data.dat`, where the $x$ values appear in the first column and the $f(x)$ values appear in the second. Choose $n$ equally spaced $x$ values in the interval [-4, 4]. Here, the function $f(x)$ is given by:\n",
    "\n",
    "$f(x) = \\frac{1}{\\sqrt{2\\pi}}\\exp(-0.5x^2)$"
   ]
  },
  {
   "cell_type": "code",
   "execution_count": null,
   "metadata": {},
   "outputs": [],
   "source": []
  },
  {
   "cell_type": "code",
   "execution_count": null,
   "metadata": {},
   "outputs": [],
   "source": [
    "ok.grade('question-6_6')"
   ]
  },
  {
   "cell_type": "code",
   "execution_count": null,
   "metadata": {},
   "outputs": [],
   "source": [
    " ok.score()"
   ]
  }
 ],
 "metadata": {
  "kernelspec": {
   "display_name": "Python 3",
   "language": "python",
   "name": "python3"
  },
  "language_info": {
   "codemirror_mode": {
    "name": "ipython",
    "version": 3
   },
   "file_extension": ".py",
   "mimetype": "text/x-python",
   "name": "python",
   "nbconvert_exporter": "python",
   "pygments_lexer": "ipython3",
   "version": "3.7.0"
  }
 },
 "nbformat": 4,
 "nbformat_minor": 1
}
